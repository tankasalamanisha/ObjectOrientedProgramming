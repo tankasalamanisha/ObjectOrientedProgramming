{
 "cells": [
  {
   "cell_type": "markdown",
   "id": "0d6ff64a",
   "metadata": {},
   "source": [
    "# What is Object Oriented Programming?\n",
    "\n",
    "Craeting \"Objects\"-> Group of inter-related variables and functions.<br><br>\n",
    "Variables: Properties.<br>\n",
    "Functions: Behaviour."
   ]
  },
  {
   "cell_type": "markdown",
   "id": "073ee934",
   "metadata": {},
   "source": [
    "### Constructors and Other Special Methods:"
   ]
  },
  {
   "cell_type": "code",
   "execution_count": 1,
   "id": "1018cd1f",
   "metadata": {},
   "outputs": [],
   "source": [
    "class Apple:\n",
    "    def __init__(self, color, flavor):\n",
    "        self.color = color\n",
    "        self.flavor = flavor"
   ]
  },
  {
   "cell_type": "code",
   "execution_count": 2,
   "id": "0550f41a",
   "metadata": {},
   "outputs": [],
   "source": [
    "jonagold= Apple(\"red\",\"sweet\")"
   ]
  },
  {
   "cell_type": "code",
   "execution_count": 3,
   "id": "1e1f198d",
   "metadata": {},
   "outputs": [
    {
     "data": {
      "text/plain": [
       "'red'"
      ]
     },
     "execution_count": 3,
     "metadata": {},
     "output_type": "execute_result"
    }
   ],
   "source": [
    "jonagold.color"
   ]
  },
  {
   "cell_type": "code",
   "execution_count": 4,
   "id": "c4ae188b",
   "metadata": {},
   "outputs": [
    {
     "data": {
      "text/plain": [
       "'sweet'"
      ]
     },
     "execution_count": 4,
     "metadata": {},
     "output_type": "execute_result"
    }
   ],
   "source": [
    "jonagold.flavor"
   ]
  },
  {
   "cell_type": "markdown",
   "id": "6c39b47b",
   "metadata": {},
   "source": [
    "1. In this code, there's a Person class that has an attribute name, which gets set when constructing the object. Fill in the blanks so that 1) when an instance of the class is created, the attribute gets set correctly, and 2) when the greeting() method is called, the greeting states the assigned name."
   ]
  },
  {
   "cell_type": "code",
   "execution_count": 6,
   "id": "e3849f52",
   "metadata": {},
   "outputs": [],
   "source": [
    "class Person:\n",
    "    def __init__(self, name):\n",
    "        self.name = name\n",
    "    def greeting(self):\n",
    "        # Should return \"hi, my name is \" followed by the name of the Person.\n",
    "        return f'hi, my name is {self.name}'"
   ]
  },
  {
   "cell_type": "code",
   "execution_count": 7,
   "id": "f0a796b5",
   "metadata": {},
   "outputs": [],
   "source": [
    "manisha= Person('Manisha')"
   ]
  },
  {
   "cell_type": "code",
   "execution_count": 8,
   "id": "c93d52c3",
   "metadata": {},
   "outputs": [
    {
     "data": {
      "text/plain": [
       "'hi, my name is Manisha'"
      ]
     },
     "execution_count": 8,
     "metadata": {},
     "output_type": "execute_result"
    }
   ],
   "source": [
    "manisha.greeting()"
   ]
  },
  {
   "cell_type": "code",
   "execution_count": 9,
   "id": "76f9f2ae",
   "metadata": {},
   "outputs": [
    {
     "data": {
      "text/plain": [
       "<__main__.Apple at 0x7fadf041c2e0>"
      ]
     },
     "execution_count": 9,
     "metadata": {},
     "output_type": "execute_result"
    }
   ],
   "source": [
    "jonagold  # Here we havent mentioned what the instance needs to do, so it does a default action: Shows the location where the data is for this instance is stored."
   ]
  },
  {
   "cell_type": "code",
   "execution_count": 13,
   "id": "0530c686",
   "metadata": {},
   "outputs": [],
   "source": [
    "# How do we tell the computer to show the contents of the instance?: Using __str__method\n",
    "class Apple:\n",
    "    def __init__(self, color, flavor):\n",
    "        self.color = color\n",
    "        self.flavor = flavor\n",
    "    def __str__(self):\n",
    "        return \"This apple is {} and its flavor is {}\".format(self.color,self.flavor)"
   ]
  },
  {
   "cell_type": "code",
   "execution_count": 15,
   "id": "b9244777",
   "metadata": {},
   "outputs": [],
   "source": [
    "jonagold =Apple('red','sweet')"
   ]
  },
  {
   "cell_type": "code",
   "execution_count": 16,
   "id": "7804ac7f",
   "metadata": {},
   "outputs": [
    {
     "name": "stdout",
     "output_type": "stream",
     "text": [
      "This apple is red and its flavor is sweet\n"
     ]
    }
   ],
   "source": [
    "print(jonagold)"
   ]
  },
  {
   "cell_type": "code",
   "execution_count": 17,
   "id": "ebd8923a",
   "metadata": {},
   "outputs": [
    {
     "name": "stdout",
     "output_type": "stream",
     "text": [
      "Help on class Apple in module __main__:\n",
      "\n",
      "class Apple(builtins.object)\n",
      " |  Apple(color, flavor)\n",
      " |  \n",
      " |  Methods defined here:\n",
      " |  \n",
      " |  __init__(self, color, flavor)\n",
      " |      Initialize self.  See help(type(self)) for accurate signature.\n",
      " |  \n",
      " |  __str__(self)\n",
      " |      Return str(self).\n",
      " |  \n",
      " |  ----------------------------------------------------------------------\n",
      " |  Data descriptors defined here:\n",
      " |  \n",
      " |  __dict__\n",
      " |      dictionary for instance variables (if defined)\n",
      " |  \n",
      " |  __weakref__\n",
      " |      list of weak references to the object (if defined)\n",
      "\n"
     ]
    }
   ],
   "source": [
    "help(Apple)"
   ]
  },
  {
   "cell_type": "markdown",
   "id": "b9f2a20c",
   "metadata": {},
   "source": [
    "## Adding information to our class\n",
    "The help()function does give us info about the class attributes and methods. But doesn't give us a whole lot of information regarding the operations performed by the methods. Thus we can use **DocString** to add this feature to the class."
   ]
  },
  {
   "cell_type": "code",
   "execution_count": 18,
   "id": "52334eb1",
   "metadata": {},
   "outputs": [],
   "source": [
    "def to_seconds(hours,minutes,seconds):\n",
    "    \"\"\"Returns the amount of seconds in the given hours, minutes and seconds.\"\"\"\n",
    "    return hours*3600+minutes*60+seconds"
   ]
  },
  {
   "cell_type": "code",
   "execution_count": 19,
   "id": "1e953bbe",
   "metadata": {},
   "outputs": [
    {
     "name": "stdout",
     "output_type": "stream",
     "text": [
      "Help on function to_seconds in module __main__:\n",
      "\n",
      "to_seconds(hours, minutes, seconds)\n",
      "    Returns the amount of seconds in the given hours, minutes and seconds.\n",
      "\n"
     ]
    }
   ],
   "source": [
    "help(to_seconds)"
   ]
  },
  {
   "cell_type": "markdown",
   "id": "0c5cf6d0",
   "metadata": {},
   "source": [
    "## Inheritance:\n",
    "\n",
    "Just like we have ancestral lineage, we also have inheritence for classes.\n",
    "\n",
    "Instead of defining the variables and methods within a class again and again, we could inherit these features into new class definition."
   ]
  },
  {
   "cell_type": "code",
   "execution_count": 1,
   "id": "d7ba53fe",
   "metadata": {},
   "outputs": [],
   "source": [
    "# In the below example, Fruit class as a Parent class and Apple and Grape classes are sibling! :D\n",
    "\n",
    "class Fruit:\n",
    "    def __init__(self, color, flavor):\n",
    "        self.color = color\n",
    "        self.flavor = flavor\n",
    "class Apple(Fruit):\n",
    "    pass\n",
    "class Grape(Fruit):\n",
    "    pass"
   ]
  },
  {
   "cell_type": "code",
   "execution_count": 2,
   "id": "570de9c5",
   "metadata": {},
   "outputs": [],
   "source": [
    "granny_smith = Apple(\"green\",'tart')\n",
    "carnelian = Grape(\"purple\",\"sweet\")"
   ]
  },
  {
   "cell_type": "code",
   "execution_count": 3,
   "id": "a5374d76",
   "metadata": {},
   "outputs": [
    {
     "name": "stdout",
     "output_type": "stream",
     "text": [
      "tart\n"
     ]
    }
   ],
   "source": [
    "print(granny_smith.flavor)"
   ]
  },
  {
   "cell_type": "code",
   "execution_count": 4,
   "id": "a99d1175",
   "metadata": {},
   "outputs": [
    {
     "name": "stdout",
     "output_type": "stream",
     "text": [
      "purple\n"
     ]
    }
   ],
   "source": [
    "print(carnelian.color)"
   ]
  },
  {
   "cell_type": "code",
   "execution_count": 5,
   "id": "dc2bf110",
   "metadata": {},
   "outputs": [],
   "source": [
    "class Animal:\n",
    "    sound=\"\"\n",
    "    def __init__(self, name):\n",
    "        self.name = name\n",
    "    def speak(self):\n",
    "        print(\"{sound} I'm {name}! {sound}\".format(name=self.name,sound=self.sound))"
   ]
  },
  {
   "cell_type": "code",
   "execution_count": 6,
   "id": "d245ccf7",
   "metadata": {},
   "outputs": [],
   "source": [
    "class Piglet(Animal):\n",
    "    sound = \"Oink!\""
   ]
  },
  {
   "cell_type": "code",
   "execution_count": 7,
   "id": "f0a4ebbf",
   "metadata": {},
   "outputs": [],
   "source": [
    "hamlet = Piglet(\"Hamlet\")"
   ]
  },
  {
   "cell_type": "code",
   "execution_count": 8,
   "id": "dbf81f6e",
   "metadata": {},
   "outputs": [
    {
     "name": "stdout",
     "output_type": "stream",
     "text": [
      "Oink! I'm Hamlet! Oink!\n"
     ]
    }
   ],
   "source": [
    "hamlet.speak()"
   ]
  },
  {
   "cell_type": "code",
   "execution_count": 9,
   "id": "cca5006d",
   "metadata": {},
   "outputs": [],
   "source": [
    "class Cow(Animal):\n",
    "    sound = \"Moooooo\""
   ]
  },
  {
   "cell_type": "code",
   "execution_count": 10,
   "id": "8aa1f85e",
   "metadata": {},
   "outputs": [],
   "source": [
    "milky = Cow(\"Milky White\")"
   ]
  },
  {
   "cell_type": "code",
   "execution_count": 11,
   "id": "2c1fd53c",
   "metadata": {},
   "outputs": [
    {
     "name": "stdout",
     "output_type": "stream",
     "text": [
      "Moooooo I'm Milky White! Moooooo\n"
     ]
    }
   ],
   "source": [
    "milky.speak()"
   ]
  },
  {
   "cell_type": "markdown",
   "id": "2b0e9604",
   "metadata": {},
   "source": [
    "## Composition\n",
    "\n",
    "What if there is a situation where one class isn't a child of another?\n",
    "\n",
    "Example:\n",
    "\n",
    "Package class : software package that could be installed on every machine on our network. This class will have all the information on software ( name, version, size and more)\n",
    "\n",
    "Repository class: represents all the packages that we have available for installation internally. In this class we want to know what's the total size of all the packages. In this case, the repository isn't a child of the package and the package isn't a repository.\n",
    "\n",
    "Instead, the repository contains the packages in the form of lists or dictionaries of instances of package class."
   ]
  },
  {
   "cell_type": "code",
   "execution_count": 12,
   "id": "063c64d0",
   "metadata": {},
   "outputs": [
    {
     "name": "stdout",
     "output_type": "stream",
     "text": [
      "0\n"
     ]
    }
   ],
   "source": [
    "class Clothing:\n",
    "  stock={ 'name': [],'material' :[], 'amount':[]}\n",
    "  def __init__(self,name):\n",
    "    material = \"\"\n",
    "    self.name = name\n",
    "  def add_item(self, name, material, amount):\n",
    "    Clothing.stock['name'].append(self.name)\n",
    "    Clothing.stock['material'].append(self.material)\n",
    "    Clothing.stock['amount'].append(amount)\n",
    "  def Stock_by_Material(self, material):\n",
    "    count=0\n",
    "    n=0\n",
    "    for item in Clothing.stock['name']:\n",
    "      if item == material:\n",
    "        count += Clothing.stock['amount'][n]\n",
    "        n+=1\n",
    "    return count\n",
    "\n",
    "class shirt(Clothing):\n",
    "  material=\"Cotton\"\n",
    "class pants(Clothing):\n",
    "  material=\"Cotton\"\n",
    "\n",
    "polo = shirt(\"Polo\")\n",
    "sweatpants = pants(\"Sweatpants\")\n",
    "polo.add_item(polo.name, polo.material, 4)\n",
    "sweatpants.add_item(sweatpants.name, sweatpants.material, 6)\n",
    "current_stock = polo.Stock_by_Material(\"Cotton\")\n",
    "print(current_stock)"
   ]
  },
  {
   "cell_type": "markdown",
   "id": "87ee03e6",
   "metadata": {},
   "source": [
    "## Object Composition\n",
    "\n",
    "You can have a situation where two different classes are related, but there is no inheritance going on. This is referred to as composition -- where one class makes use of code contained in another class. For example, imagine we have a Package class which represents a software package. It contains attributes about the software package, like name, version, and size. We also have a Repository class which represents all the packages available for installation. While there’s no inheritance relationship between the two classes, they are related. The Repository class will contain a dictionary or list of Packages that are contained in the repository. Let's take a look at an example Repository class definition:\n",
    "\n",
    "class Repository:\n",
    "...      def __init__(self):\n",
    "...          self.packages = {}\n",
    "...      def add_package(self, package):\n",
    "...          self.packages[package.name] = package\n",
    "...      def total_size(self):\n",
    "...          result = 0\n",
    "...          for package in self.packages.values():\n",
    "...              result += package.size\n",
    "...          return result\n",
    "\n",
    "In the constructor method, we initialize the packages dictionary, which will contain the package objects available in this repository instance. We initialize the dictionary in the constructor to ensure that every instance of the Repository class has its own dictionary.\n",
    "\n",
    "We then define the add_package method, which takes a Package object as a parameter, and then adds it to our dictionary, using the package name attribute as the key.\n",
    "\n",
    "Finally, we define a total_size method which computes the total size of all packages contained in our repository. This method iterates through the values in our repository dictionary and adds together the size attributes from each package object contained in the dictionary, returning the total at the end. In this example, we’re making use of Package attributes within our Repository class. We’re also calling the values() method on our packages dictionary instance. Composition allows us to use objects as attributes, as well as access all their attributes and methods."
   ]
  },
  {
   "cell_type": "code",
   "execution_count": null,
   "id": "1fb8d33f",
   "metadata": {},
   "outputs": [],
   "source": []
  }
 ],
 "metadata": {
  "kernelspec": {
   "display_name": "Python 3.8.10 64-bit",
   "language": "python",
   "name": "python3810jvsc74a57bd0916dbcbb3f70747c44a77c7bcd40155683ae19c65e1c03b4aa3499c5328201f1"
  },
  "language_info": {
   "codemirror_mode": {
    "name": "ipython",
    "version": 3
   },
   "file_extension": ".py",
   "mimetype": "text/x-python",
   "name": "python",
   "nbconvert_exporter": "python",
   "pygments_lexer": "ipython3",
   "version": "3.8.10"
  }
 },
 "nbformat": 4,
 "nbformat_minor": 5
}
